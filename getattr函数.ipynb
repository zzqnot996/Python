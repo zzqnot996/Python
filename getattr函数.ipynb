{
  "nbformat": 4,
  "nbformat_minor": 0,
  "metadata": {
    "colab": {
      "provenance": []
    },
    "kernelspec": {
      "name": "python3",
      "display_name": "Python 3"
    },
    "language_info": {
      "name": "python"
    }
  },
  "cells": [
    {
      "cell_type": "markdown",
      "source": [
        "getattr() 是Python内置函数，用于获取对象的属性或方法。它的一般语法如下：\n",
        "\n",
        "getattr(object, attribute, default)\n",
        "\n",
        "\n",
        "    object：表示要获取属性或方法的对象。\n",
        "    attribute：表示要获取的属性或方法的名称，可以是一个字符串。\n",
        "    default（可选）：如果属性或方法不存在，可以指定一个默认值。\n",
        "\n",
        "getattr() 函数的主要用途是在运行时根据字符串的内容访问对象的属性或方法。这在某些动态编程场景中非常有用，例如根据用户输入的命令来执行相应的操作。"
      ],
      "metadata": {
        "id": "ohT4XiNe9Eey"
      }
    },
    {
      "cell_type": "code",
      "execution_count": 1,
      "metadata": {
        "colab": {
          "base_uri": "https://localhost:8080/"
        },
        "id": "81YYLIIk8vSu",
        "outputId": "cda74651-927f-4c6e-dd1d-4c3d89745b53"
      },
      "outputs": [
        {
          "output_type": "stream",
          "name": "stdout",
          "text": [
            "42\n",
            "Hello, world!\n"
          ]
        }
      ],
      "source": [
        "class MyClass:\n",
        "    def __init__(self):\n",
        "        self.my_attribute = 42\n",
        "\n",
        "    def my_method(self):\n",
        "        return \"Hello, world!\"\n",
        "\n",
        "obj = MyClass()\n",
        "\n",
        "# 使用 getattr() 获取对象的属性和方法\n",
        "attribute_value = getattr(obj, \"my_attribute\")\n",
        "print(attribute_value)  # 输出: 42\n",
        "\n",
        "method_result = getattr(obj, \"my_method\")()\n",
        "print(method_result)  # 输出: Hello, world!\n"
      ]
    },
    {
      "cell_type": "markdown",
      "source": [
        "对于 getattr() 函数的 default 参数，它是一个可选的参数，用于指定在属性或方法不存在时返回的默认值。如果未提供 default 参数，而属性或方法不存在，则 getattr() 将引发 AttributeError 异常。"
      ],
      "metadata": {
        "id": "GNU0oupN9gy1"
      }
    },
    {
      "cell_type": "code",
      "source": [
        "class MyClass:\n",
        "    def __init__(self):\n",
        "        self.my_attribute = 42\n",
        "\n",
        "obj = MyClass()\n",
        "\n",
        "# 使用 getattr() 获取对象的属性，但指定了默认值\n",
        "attribute_value = getattr(obj, \"non_existent_attribute\", \"Default Value\")\n",
        "print(attribute_value)  # 输出: Default Value\n",
        "\n",
        "# 使用 getattr() 获取对象的方法，但指定了默认值\n",
        "method_result = getattr(obj, \"non_existent_method\", lambda: \"Default Method\")()\n",
        "print(method_result)  # 输出: Default Method\n"
      ],
      "metadata": {
        "colab": {
          "base_uri": "https://localhost:8080/"
        },
        "id": "snCOE1Fl9iH4",
        "outputId": "15044465-a7af-44fd-efd0-67b1144e5708"
      },
      "execution_count": 2,
      "outputs": [
        {
          "output_type": "stream",
          "name": "stdout",
          "text": [
            "Default Value\n",
            "Default Method\n"
          ]
        }
      ]
    },
    {
      "cell_type": "markdown",
      "source": [
        "在上面的示例中，getattr() 函数尝试获取不存在的属性和方法，并且为每个情况指定了一个默认值。当属性或方法不存在时，它返回了相应的默认值，而不是引发异常。这允许在属性或方法不存在时提供一个备用值。如果不提供 default 参数，getattr() 将引发异常。"
      ],
      "metadata": {
        "id": "qiBFPPHi9j_P"
      }
    }
  ]
}