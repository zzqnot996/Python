{
  "nbformat": 4,
  "nbformat_minor": 0,
  "metadata": {
    "colab": {
      "provenance": []
    },
    "kernelspec": {
      "name": "python3",
      "display_name": "Python 3"
    },
    "language_info": {
      "name": "python"
    }
  },
  "cells": [
    {
      "cell_type": "markdown",
      "source": [
        "### 匹配字符串中的某个模式："
      ],
      "metadata": {
        "id": "7Ynuj7RbHBEA"
      }
    },
    {
      "cell_type": "code",
      "source": [
        "import re\n",
        "\n",
        "\n",
        "pattern = r\"apple\"\n",
        "text = \"I have an apple and an orange.\"\n",
        "match = re.search(pattern, text)\n",
        "if match:\n",
        "    print(\"Found:\", match.group())  # 输出: Found: apple\n",
        "else:\n",
        "    print(\"Not found\")\n"
      ],
      "metadata": {
        "colab": {
          "base_uri": "https://localhost:8080/"
        },
        "outputId": "217fbffb-5d11-40ae-94a4-49f18661c7f1",
        "id": "Zx83BRhKG4xc"
      },
      "execution_count": 3,
      "outputs": [
        {
          "output_type": "stream",
          "name": "stdout",
          "text": [
            "Found: apple\n"
          ]
        }
      ]
    },
    {
      "cell_type": "markdown",
      "source": [
        "### 查找所有匹配的模式："
      ],
      "metadata": {
        "id": "JMOkwhSmHE2E"
      }
    },
    {
      "cell_type": "code",
      "source": [
        "import re\n",
        "\n",
        "\n",
        "pattern = r\"an\"\n",
        "text = \"I have an apple and an orange.\"\n",
        "matches = re.findall(pattern, text)\n",
        "print(matches)  # 输出: ['an', 'an']\n",
        "\n",
        "\n"
      ],
      "metadata": {
        "colab": {
          "base_uri": "https://localhost:8080/"
        },
        "id": "C2ZeL3b4HITb",
        "outputId": "eca3b2e1-94a7-405b-9354-51fbda92f9cf"
      },
      "execution_count": 4,
      "outputs": [
        {
          "output_type": "stream",
          "name": "stdout",
          "text": [
            "['an', 'an', 'an', 'an']\n"
          ]
        }
      ]
    },
    {
      "cell_type": "markdown",
      "source": [
        "### 替换字符串中的模式："
      ],
      "metadata": {
        "id": "hFn5FugRHUqo"
      }
    },
    {
      "cell_type": "code",
      "source": [
        "import re\n",
        "\n",
        "\n",
        "pattern = r\"apple\"\n",
        "text = \"I have an apple and an orange.\"\n",
        "replacement = \"banana\"\n",
        "new_text = re.sub(pattern, replacement, text)\n",
        "print(new_text)  # 输出: \"I have an banana and an orange.\"\n"
      ],
      "metadata": {
        "colab": {
          "base_uri": "https://localhost:8080/"
        },
        "id": "Vo1fxFqKHVzQ",
        "outputId": "d9596c1f-8a2b-40fe-cdf9-94a0904c99fa"
      },
      "execution_count": 5,
      "outputs": [
        {
          "output_type": "stream",
          "name": "stdout",
          "text": [
            "I have an banana and an orange.\n"
          ]
        }
      ]
    },
    {
      "cell_type": "markdown",
      "source": [
        "### 切割字符串："
      ],
      "metadata": {
        "id": "HINvLgB2HgL6"
      }
    },
    {
      "cell_type": "code",
      "source": [
        "import re\n",
        "\n",
        "text = \"apple,banana,orange\"\n",
        "pattern = r\",\"\n",
        "split_result = re.split(pattern, text)\n",
        "print(split_result)  # 输出: ['apple', 'banana', 'orange']\n"
      ],
      "metadata": {
        "colab": {
          "base_uri": "https://localhost:8080/"
        },
        "id": "cmztoWzrHjs9",
        "outputId": "9bf6b5a8-50f7-4894-b359-b3c76889da0c"
      },
      "execution_count": 8,
      "outputs": [
        {
          "output_type": "stream",
          "name": "stdout",
          "text": [
            "['apple', 'banana', 'orange']\n"
          ]
        }
      ]
    },
    {
      "cell_type": "markdown",
      "source": [
        "### 匹配多个字符中的一个："
      ],
      "metadata": {
        "id": "5kQ8wY5eHs4M"
      }
    },
    {
      "cell_type": "code",
      "source": [
        "import re\n",
        "\n",
        "\n",
        "pattern = r\"[aeiou]\"\n",
        "text = \"Hello, World!\"\n",
        "matches = re.findall(pattern, text, re.IGNORECASE)  # 忽略大小写\n",
        "print(matches)  # 输出: ['e', 'o', 'o', 'o']\n"
      ],
      "metadata": {
        "colab": {
          "base_uri": "https://localhost:8080/"
        },
        "id": "lQdy-4fQHufh",
        "outputId": "715740da-0723-4c77-9dba-6272f6e669a8"
      },
      "execution_count": 7,
      "outputs": [
        {
          "output_type": "stream",
          "name": "stdout",
          "text": [
            "['e', 'o', 'o']\n"
          ]
        }
      ]
    },
    {
      "cell_type": "markdown",
      "source": [
        "### 自定义匹配重复次数："
      ],
      "metadata": {
        "id": "nzLprLiRH2bC"
      }
    },
    {
      "cell_type": "code",
      "source": [
        "import re\n",
        "\n",
        "pattern = r\"a{2,4}\"\n",
        "text = \"aa ab aaa aaaa aaaaa\"\n",
        "matches = re.findall(pattern, text)\n",
        "print(matches)  # 输出: ['aa', 'aaa', 'aaaa']\n"
      ],
      "metadata": {
        "colab": {
          "base_uri": "https://localhost:8080/"
        },
        "id": "xGtLiqqXH4E4",
        "outputId": "cc43fabe-4d3b-4d39-9f36-6a51419d7439"
      },
      "execution_count": 6,
      "outputs": [
        {
          "output_type": "stream",
          "name": "stdout",
          "text": [
            "['aa', 'aaa', 'aaaa', 'aaaa']\n"
          ]
        }
      ]
    },
    {
      "cell_type": "markdown",
      "source": [
        "### .：匹配任何字符，除了换行符。"
      ],
      "metadata": {
        "id": "E0wAo6uYIkPL"
      }
    },
    {
      "cell_type": "code",
      "source": [
        "import re\n",
        "\n",
        "pattern = r\"gr.y\"\n",
        "text1 = \"gray\"\n",
        "text2 = \"grey\"\n",
        "text3 = \"groy\"\n",
        "match1 = re.search(pattern, text1)\n",
        "match2 = re.search(pattern, text2)\n",
        "match3 = re.search(pattern, text3)\n",
        "print(match1.group())  # 输出: gray\n",
        "print(match2.group())  # 输出: grey\n",
        "print(match3.group())  # 输出: groy\n"
      ],
      "metadata": {
        "colab": {
          "base_uri": "https://localhost:8080/"
        },
        "id": "a2SJ4xskIqoD",
        "outputId": "948e1397-e089-403a-8afe-b074e7ac5516"
      },
      "execution_count": 9,
      "outputs": [
        {
          "output_type": "stream",
          "name": "stdout",
          "text": [
            "gray\n",
            "grey\n",
            "groy\n"
          ]
        }
      ]
    },
    {
      "cell_type": "markdown",
      "source": [
        "### []：匹配中括号内的任何一个字符"
      ],
      "metadata": {
        "id": "87MEL6KXIuQJ"
      }
    },
    {
      "cell_type": "code",
      "source": [
        "import re\n",
        "\n",
        "pattern = r\"[aeiou]\"\n",
        "text = \"Hello, World!\"\n",
        "matches = re.findall(pattern, text, re.IGNORECASE)\n",
        "print(matches)\n"
      ],
      "metadata": {
        "colab": {
          "base_uri": "https://localhost:8080/"
        },
        "id": "vrDkW6HOIvxr",
        "outputId": "d84e2c20-65f0-4d05-a618-b0c6553178e1"
      },
      "execution_count": 10,
      "outputs": [
        {
          "output_type": "stream",
          "name": "stdout",
          "text": [
            "['e', 'o', 'o']\n"
          ]
        }
      ]
    },
    {
      "cell_type": "markdown",
      "source": [
        "### [^]：匹配不在中括号内的任何一个字符"
      ],
      "metadata": {
        "id": "6LxuK8T2JC6n"
      }
    },
    {
      "cell_type": "code",
      "source": [
        "import re\n",
        "\n",
        "pattern = r\"[^0-9]\"\n",
        "text = \"Hello, 123!\"\n",
        "matches = re.findall(pattern, text)\n",
        "print(matches)\n"
      ],
      "metadata": {
        "colab": {
          "base_uri": "https://localhost:8080/"
        },
        "id": "uuLypfvrJFJI",
        "outputId": "f2d22c6c-670b-422c-da4a-ae219ecf81b1"
      },
      "execution_count": 11,
      "outputs": [
        {
          "output_type": "stream",
          "name": "stdout",
          "text": [
            "['H', 'e', 'l', 'l', 'o', ',', ' ', '!']\n"
          ]
        }
      ]
    },
    {
      "cell_type": "markdown",
      "source": [
        "### \\d：匹配数字字符"
      ],
      "metadata": {
        "id": "OKPdVe9UJNLm"
      }
    },
    {
      "cell_type": "code",
      "source": [
        "import re\n",
        "\n",
        "pattern = r\"\\d\"\n",
        "text = \"I have 2 apples and 3 oranges.\"\n",
        "matches = re.findall(pattern, text)\n",
        "print(matches)  # 输出: ['2', '3']\n"
      ],
      "metadata": {
        "colab": {
          "base_uri": "https://localhost:8080/"
        },
        "id": "uColQaK0JQGg",
        "outputId": "5e8188be-2bde-4fdb-8569-f489ace98f58"
      },
      "execution_count": 12,
      "outputs": [
        {
          "output_type": "stream",
          "name": "stdout",
          "text": [
            "['2', '3']\n"
          ]
        }
      ]
    },
    {
      "cell_type": "markdown",
      "source": [
        "### \\D：匹配非数字字符。"
      ],
      "metadata": {
        "id": "Q1TayL8mJTaO"
      }
    },
    {
      "cell_type": "code",
      "source": [
        "import re\n",
        "\n",
        "pattern = r\"\\D\"\n",
        "text = \"I have 2 apples and 3 oranges.\"\n",
        "matches = re.findall(pattern, text)\n",
        "print(matches)\n"
      ],
      "metadata": {
        "colab": {
          "base_uri": "https://localhost:8080/"
        },
        "id": "iI_ytjqAJUgP",
        "outputId": "67390962-b647-4f4f-a301-b65f5c9d2ca1"
      },
      "execution_count": 13,
      "outputs": [
        {
          "output_type": "stream",
          "name": "stdout",
          "text": [
            "['I', ' ', 'h', 'a', 'v', 'e', ' ', ' ', 'a', 'p', 'p', 'l', 'e', 's', ' ', 'a', 'n', 'd', ' ', ' ', 'o', 'r', 'a', 'n', 'g', 'e', 's', '.']\n"
          ]
        }
      ]
    },
    {
      "cell_type": "markdown",
      "source": [
        "### \\w：匹配字母、数字或下划线字符"
      ],
      "metadata": {
        "id": "qMV99XmCJZvD"
      }
    },
    {
      "cell_type": "code",
      "source": [
        "import re\n",
        "\n",
        "pattern = r\"\\w\"\n",
        "text = \"Hello, World!\"\n",
        "matches = re.findall(pattern, text)\n",
        "print(matches)\n"
      ],
      "metadata": {
        "colab": {
          "base_uri": "https://localhost:8080/"
        },
        "id": "Wbf8IQfWJbPr",
        "outputId": "11ccc764-96fe-493b-e1d3-f573f5801fd0"
      },
      "execution_count": 14,
      "outputs": [
        {
          "output_type": "stream",
          "name": "stdout",
          "text": [
            "['H', 'e', 'l', 'l', 'o', 'W', 'o', 'r', 'l', 'd']\n"
          ]
        }
      ]
    },
    {
      "cell_type": "markdown",
      "source": [
        "### \\s：匹配空白字符（空格、制表符、换行符等）"
      ],
      "metadata": {
        "id": "YyY2D96EJh2q"
      }
    },
    {
      "cell_type": "code",
      "source": [
        "import re\n",
        "\n",
        "pattern = r\"\\s\"\n",
        "text = \"Hello\\tWorld\\nPython\"\n",
        "matches = re.findall(pattern, text)\n",
        "print(matches)  # 输出: ['\\t', '\\n']\n"
      ],
      "metadata": {
        "colab": {
          "base_uri": "https://localhost:8080/"
        },
        "id": "2b4ur65PJhZs",
        "outputId": "432c5827-8192-4b12-a953-4be10b724a19"
      },
      "execution_count": 15,
      "outputs": [
        {
          "output_type": "stream",
          "name": "stdout",
          "text": [
            "['\\t', '\\n']\n"
          ]
        }
      ]
    },
    {
      "cell_type": "markdown",
      "source": [
        "### 匹配电子邮件地址："
      ],
      "metadata": {
        "id": "pev-n127TF9E"
      }
    },
    {
      "cell_type": "code",
      "source": [
        "import re\n",
        "\n",
        "pattern = r\"[a-zA-Z0-9._%+-]+@[a-zA-Z0-9.-]+\\.[a-zA-Z]{2,4}\"\n",
        "text = \"My email is john.doe@example.com. Please contact me.\"\n",
        "matches = re.findall(pattern, text)\n",
        "print(matches)  # 输出: ['john.doe@example.com']\n"
      ],
      "metadata": {
        "id": "NWLdZYRzTHyb"
      },
      "execution_count": null,
      "outputs": []
    },
    {
      "cell_type": "markdown",
      "source": [
        "当你使用正则表达式 r\"[a-zA-Z0-9._%+-]+@[a-zA-Z0-9.-]+\\.[a-zA-Z]{2,4}\" 时，它的目的是匹配电子邮件地址的模式。让我们逐步解释这个正则表达式的各个部分：\n",
        "\n",
        "    [a-zA-Z0-9._%+-]+: 这部分匹配电子邮件地址的用户名部分。具体解释如下：\n",
        "        [a-zA-Z0-9]: 表示可以是任何字母（不区分大小写）或数字。\n",
        "        ._%+-: 表示可以包含特殊字符（点、下划线、百分号、加号和减号）。\n",
        "        +: 表示前面的字符集可以出现一次或多次，确保用户名部分不为空。\n",
        "\n",
        "    @: 这是电子邮件地址中的必需字符，用于分隔用户名和域名部分。\n",
        "\n",
        "    [a-zA-Z0-9.-]+: 这部分匹配电子邮件地址的域名部分。具体解释如下：\n",
        "        [a-zA-Z0-9]: 表示可以是任何字母（不区分大小写）或数字。\n",
        "        .-: 表示可以包含点（.）或短划线（-）字符。\n",
        "        +: 表示前面的字符集可以出现一次或多次，确保域名部分不为空。\n",
        "\n",
        "    \\.: 这是用来匹配电子邮件地址中的点（.）字符的转义符。正则表达式中的.默认匹配任何字符，所以要匹配实际的点字符，我们需要使用 \\.。\n",
        "\n",
        "    [a-zA-Z]{2,4}: 这部分匹配电子邮件地址的顶级域名（TLD），如.com或.edu等。具体解释如下：\n",
        "        [a-zA-Z]: 表示只能是字母（不区分大小写）。\n",
        "        {2,4}: 表示前面的字符集可以出现2到4次，这是为了匹配不同长度的TLD。\n",
        "\n",
        "所以，这个正则表达式的总体目标是匹配具有正确格式的电子邮件地址。请注意，这个正则表达式可能无法捕获所有可能的电子邮件地址，因为电子邮件地址的格式有很多变种，但它可以匹配大多数常见的电子邮件地址格式"
      ],
      "metadata": {
        "id": "A_SLRumsTo3n"
      }
    },
    {
      "cell_type": "markdown",
      "source": [
        "### 匹配美国电话号码："
      ],
      "metadata": {
        "id": "0d9AEuoBTRsm"
      }
    },
    {
      "cell_type": "code",
      "source": [
        "import re\n",
        "\n",
        "pattern = r\"\\d{3}-\\d{3}-\\d{4}\"\n",
        "text = \"My phone number is 555-123-4567. Call me anytime.\"\n",
        "matches = re.findall(pattern, text)\n",
        "print(matches)  # 输出: ['555-123-4567']\n"
      ],
      "metadata": {
        "colab": {
          "base_uri": "https://localhost:8080/"
        },
        "id": "W8EllmtaTTFh",
        "outputId": "08c45bc1-8f2d-4145-9394-3ae0b85bda5c"
      },
      "execution_count": 16,
      "outputs": [
        {
          "output_type": "stream",
          "name": "stdout",
          "text": [
            "['555-123-4567']\n"
          ]
        }
      ]
    },
    {
      "cell_type": "markdown",
      "source": [
        "### 匹配URL："
      ],
      "metadata": {
        "id": "mdIX5zqJTWHS"
      }
    },
    {
      "cell_type": "code",
      "source": [
        "import re\n",
        "\n",
        "pattern = r\"https?://[a-zA-Z0-9.-]+/[a-zA-Z0-9./-]+\"\n",
        "text = \"Visit my website at https://www.example.com/page1.\"\n",
        "matches = re.findall(pattern, text)\n",
        "print(matches)  # 输出: ['https://www.example.com/page1']\n"
      ],
      "metadata": {
        "colab": {
          "base_uri": "https://localhost:8080/"
        },
        "id": "bM1b_hz1TXcV",
        "outputId": "234daa4f-b342-47cd-f33a-cbe8edb0ce18"
      },
      "execution_count": 17,
      "outputs": [
        {
          "output_type": "stream",
          "name": "stdout",
          "text": [
            "['https://www.example.com/page1.']\n"
          ]
        }
      ]
    },
    {
      "cell_type": "markdown",
      "source": [
        "### 匹配日期："
      ],
      "metadata": {
        "id": "v3BqnoguTZuN"
      }
    },
    {
      "cell_type": "code",
      "source": [
        "import re\n",
        "\n",
        "pattern = r\"\\d{4}-\\d{2}-\\d{2}\"\n",
        "text = \"The meeting is scheduled for 2023-09-15.\"\n",
        "matches = re.findall(pattern, text)\n",
        "print(matches)  # 输出: ['2023-09-15']\n"
      ],
      "metadata": {
        "id": "JCGOzRYsTa4I"
      },
      "execution_count": null,
      "outputs": []
    },
    {
      "cell_type": "markdown",
      "source": [
        "### 匹配HTML标签内容："
      ],
      "metadata": {
        "id": "jLDEbrlwTdcw"
      }
    },
    {
      "cell_type": "code",
      "source": [
        "import re\n",
        "\n",
        "pattern = r\"<.*?>\"\n",
        "text = \"<p>This is a <b>sample</b> HTML <i>text</i>.</p>\"\n",
        "matches = re.findall(pattern, text)\n",
        "print(matches)  # 输出: ['<p>', '</b>', '<i>', '</i>', '</p>']\n"
      ],
      "metadata": {
        "id": "Fy-0GuVmTekk"
      },
      "execution_count": null,
      "outputs": []
    }
  ]
}