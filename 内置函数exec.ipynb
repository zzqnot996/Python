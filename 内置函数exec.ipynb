{
  "nbformat": 4,
  "nbformat_minor": 0,
  "metadata": {
    "colab": {
      "provenance": [],
      "authorship_tag": "ABX9TyPVCvdU+Ds2qNGWwvUjmFIF",
      "include_colab_link": true
    },
    "kernelspec": {
      "name": "python3",
      "display_name": "Python 3"
    },
    "language_info": {
      "name": "python"
    }
  },
  "cells": [
    {
      "cell_type": "markdown",
      "metadata": {
        "id": "view-in-github",
        "colab_type": "text"
      },
      "source": [
        "<a href=\"https://colab.research.google.com/github/zzqnot996/Python/blob/main/%E5%86%85%E7%BD%AE%E5%87%BD%E6%95%B0exec.ipynb\" target=\"_parent\"><img src=\"https://colab.research.google.com/assets/colab-badge.svg\" alt=\"Open In Colab\"/></a>"
      ]
    },
    {
      "cell_type": "markdown",
      "source": [
        "exec是Python内置函数之一，用于执行动态生成的Python代码。它的主要作用是将一个字符串作为代码输入，并在运行时执行这段代码。exec函数的基本语法如下\n",
        "\n",
        "\n",
        "\n",
        "```\n",
        "exec(object[, globals[, locals]])\n",
        "```\n",
        "\n",
        "\n",
        "\n",
        "\n",
        "    object: 这是包含要执行代码的字符串或代码对象（通常是字符串）。它可以包含一行或多行Python代码。\n",
        "    globals（可选参数）: 这是一个可选的字典，表示全局命名空间。如果提供了globals参数，代码将在这个全局命名空间中执行。\n",
        "    locals（可选参数）: 这也是一个可选的字典，表示局部命名空间。如果提供了locals参数，代码将在这个局部命名空间中执行。通常，globals和locals参数都不需要提供，以便在当前上下文中执行代码。"
      ],
      "metadata": {
        "id": "ZQFxwmnzaz7n"
      }
    },
    {
      "cell_type": "code",
      "execution_count": 1,
      "metadata": {
        "colab": {
          "base_uri": "https://localhost:8080/"
        },
        "id": "2bZ-kfizZ4OX",
        "outputId": "fb71545b-204e-44db-84f3-67737104e838"
      },
      "outputs": [
        {
          "output_type": "stream",
          "name": "stdout",
          "text": [
            "10\n"
          ]
        }
      ],
      "source": [
        "# 示例1：执行简单的赋值操作\n",
        "code = \"x = 10\"\n",
        "exec(code)\n",
        "print(x)  # 输出：10\n",
        ""
      ]
    },
    {
      "cell_type": "code",
      "source": [
        "# 示例2：执行条件语句\n",
        "condition_code = \"if x > 5:\\n    print('x is greater than 5')\"\n",
        "exec(condition_code, globals(), locals())\n"
      ],
      "metadata": {
        "colab": {
          "base_uri": "https://localhost:8080/"
        },
        "id": "tfZXyJCqagy8",
        "outputId": "71e428bb-7c15-4189-c7b4-8dfb5a461a28"
      },
      "execution_count": 2,
      "outputs": [
        {
          "output_type": "stream",
          "name": "stdout",
          "text": [
            "x is greater than 5\n"
          ]
        }
      ]
    },
    {
      "cell_type": "code",
      "source": [
        "# 示例3：在局部和全局命名空间中执行代码\n",
        "global_var = 100\n",
        "local_var = 50\n",
        "code_with_globals_and_locals = \"result = global_var + local_var\"\n",
        "exec(code_with_globals_and_locals, globals(), locals())\n",
        "print(result)  # 输出：150\n"
      ],
      "metadata": {
        "colab": {
          "base_uri": "https://localhost:8080/"
        },
        "id": "uec9RjznakXh",
        "outputId": "83058eeb-0b47-4fb7-852d-3a671b01da6a"
      },
      "execution_count": 3,
      "outputs": [
        {
          "output_type": "stream",
          "name": "stdout",
          "text": [
            "150\n"
          ]
        }
      ]
    }
  ]
}